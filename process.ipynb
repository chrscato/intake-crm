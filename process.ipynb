{
  "cells": [
    {
      "cell_type": "markdown",
      "metadata": {},
      "source": [
        "# \ud83d\udce5 Email Ingestion Demo Notebook",
        "",
        "This notebook walks through the core steps of the **intake\u2011crm** scaffold:",
        "",
        "1. Load environment & project paths  ",
        "2. Test Microsoft\u00a0Graph authentication  ",
        "3. Pull new messages \u2192 S3 \u2192 SQLite  ",
        "4. Inspect what landed in the local database  ",
        "",
        "> **Tip:** edit the code cells as needed (e.g., change folders, limits, etc.) and re\u2011run."
      ]
    },
    {
      "cell_type": "markdown",
      "metadata": {},
      "source": [
        "## 0\u00a0\u2014\u00a0Prereqs",
        "",
        "* Install deps:",
        "",
        "```bash",
        "pip install -r requirements.txt",
        "```",
        "",
        "* Copy `.env.sample` \u2192 `.env` and fill your secrets."
      ]
    },
    {
      "cell_type": "code",
      "metadata": {},
      "execution_count": null,
      "outputs": [],
      "source": [
        "import os, sys, json, sqlite3, pprint, importlib",
        "from pathlib import Path",
        "from datetime import datetime",
        "",
        "# Point Python at the project root so `import app...` works",
        "PROJECT_ROOT = Path.cwd() / \"intake-crm\"   # adjust if notebook sits elsewhere",
        "sys.path.insert(0, str(PROJECT_ROOT))",
        "",
        "# Load settings",
        "from app.settings import settings",
        "print(\"\ud83d\udccc Project root:\", PROJECT_ROOT)",
        "print(\"\ud83d\udce7 Folder:\", settings.OUTLOOK_FOLDER_NAME)"
      ]
    },
    {
      "cell_type": "markdown",
      "metadata": {},
      "source": [
        "##\u00a01\u00a0\u2014\u00a0Quick auth test"
      ]
    },
    {
      "cell_type": "code",
      "metadata": {},
      "execution_count": null,
      "outputs": [],
      "source": [
        "from app.email_ingest.graph_client import graph_get",
        "try:",
        "    me = graph_get('https://graph.microsoft.com/v1.0/me')",
        "    print(\"\u2705 Graph token ok \u2013 hello,\", me['displayName'])",
        "except Exception as e:",
        "    print(\"\u274c Graph auth failed:\", e)"
      ]
    },
    {
      "cell_type": "markdown",
      "metadata": {},
      "source": [
        "##\u00a02\u00a0\u2014\u00a0Run the ingest loop"
      ]
    },
    {
      "cell_type": "code",
      "metadata": {},
      "execution_count": null,
      "outputs": [],
      "source": [
        "from app.email_ingest.download import run as ingest_run",
        "print(\"\ud83d\ude80 ingest_run() \u2026\")",
        "ingest_run()",
        "print(\"\u2714\ufe0f Done at\", datetime.now().isoformat())"
      ]
    },
    {
      "cell_type": "markdown",
      "metadata": {},
      "source": [
        "##\u00a03\u00a0\u2014\u00a0Peek at the SQLite `referrals` table"
      ]
    },
    {
      "cell_type": "code",
      "metadata": {},
      "execution_count": null,
      "outputs": [],
      "source": [
        "db_path = Path(settings.SQLITE_DB_PATH)",
        "con = sqlite3.connect(db_path)",
        "rows = con.execute('SELECT email_id, processed, created_at FROM referrals ORDER BY created_at DESC LIMIT 5').fetchall()",
        "pprint.pp(rows)",
        "con.close()"
      ]
    },
    {
      "cell_type": "markdown",
      "metadata": {},
      "source": [
        "##\u00a0\u2705 Finished",
        "Feel free to continue tinkering or call the GPT\u20114o processing step in a follow\u2011up notebook!"
      ]
    }
  ],
  "metadata": {
    "kernelspec": {
      "display_name": "Python 3",
      "language": "python",
      "name": "python3"
    },
    "language_info": {
      "name": "python",
      "version": "3.x"
    }
  },
  "nbformat": 4,
  "nbformat_minor": 4
}